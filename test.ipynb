{
 "cells": [
  {
   "cell_type": "code",
   "execution_count": null,
   "metadata": {},
   "outputs": [],
   "source": []
  },
  {
   "cell_type": "markdown",
   "metadata": {},
   "source": [
    "# CV_Projects\n",
    "This is a Repository where i link to some Data Science Projects that I have done.\n",
    "\n",
    "Data Science:\n",
    "+ Comparison of CNN-VAE and LSTM-VAE for Anomaly Detection, subsequent synthesizing of data and employing Cassandra DB to depoy a continuous Anomaly Detection with Azure Managed Online Deployment (2024)\n",
    "    - https://github.com/JannisEbling/End-to-End-MLFlow-Machine-Learning-Project\n",
    "+ Probabilistic Forecasting of * using a Mixture Gaussian Processes Model, parametrized by a DNN. (2024)\n",
    "    - https://github.com/JannisEbling/End-to-End-MLFlow-Machine-Learning-Project\n",
    "+ End-to-End Machine Learning Project for Wine Quality with complete MLOps development Pipeline and Deployment. (2024)\n",
    "    - https://github.com/JannisEbling/End-to-End-MLFlow-Machine-Learning-Project\n",
    "+ End-to-End Machine Learning Project for Heart Failure Classification with MLFlow and AWS Deployment. (2024)\n",
    "    - https://github.com/JannisEbling/End-to-End-MLFlow-Machine-Learning-Project\n",
    "+ Unsupervised Customer Segmentation. (2023)\n",
    "    - https://github.com/JannisEbling/End-to-End-MLFlow-Machine-Learning-Project\n",
    "+ ECG Time-Series Classification employing a Neural Network with Keras. (2022)\n",
    "    - https://github.com/JannisEbling/End-to-End-MLFlow-Machine-Learning-Project\n",
    "+ Hotel Reservation Classification using several classification models as an ensemble model. (2021)\n",
    "    - https://github.com/JannisEbling/End-to-End-MLFlow-Machine-Learning-Project\n",
    "+ Covid Fatality Classification using several classification models as an ensemble model. (2021)\n",
    "    - https://github.com/JannisEbling/End-to-End-MLFlow-Machine-Learning-Project\n",
    "+ Telco Churn Classification. (2021)\n",
    "    - https://github.com/JannisEbling/End-to-End-MLFlow-Machine-Learning-Project\n",
    "\n",
    "AI Engineering:\n",
    "+ Advanced RAG Web-App using Azure AI, Langchain and Huggingface. (2024)\n",
    "    - https://github.com/JannisEbling/End-to-End-MLFlow-Machine-Learning-Project\n",
    "+ Image Generation using Huggingface. (2024)\n",
    "    - https://github.com/JannisEbling/End-to-End-MLFlow-Machine-Learning-Project\n",
    "+ Fine tuned Object Detection Model with the * Dataset with Huggingface and Deployment as Web-App. (2024)\n",
    "    - https://github.com/JannisEbling/End-to-End-MLFlow-Machine-Learning-Project"
   ]
  }
 ],
 "metadata": {
  "language_info": {
   "name": "python"
  }
 },
 "nbformat": 4,
 "nbformat_minor": 2
}
